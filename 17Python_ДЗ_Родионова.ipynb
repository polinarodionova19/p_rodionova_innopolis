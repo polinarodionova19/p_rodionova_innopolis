{
  "nbformat": 4,
  "nbformat_minor": 0,
  "metadata": {
    "colab": {
      "provenance": [],
      "authorship_tag": "ABX9TyOKHZDmi5QC31r3TUvKZQwS",
      "include_colab_link": true
    },
    "kernelspec": {
      "name": "python3",
      "display_name": "Python 3"
    },
    "language_info": {
      "name": "python"
    }
  },
  "cells": [
    {
      "cell_type": "markdown",
      "metadata": {
        "id": "view-in-github",
        "colab_type": "text"
      },
      "source": [
        "<a href=\"https://colab.research.google.com/github/polinarodionova19/p_rodionova_innopolis/blob/main/17Python_%D0%94%D0%97_%D0%A0%D0%BE%D0%B4%D0%B8%D0%BE%D0%BD%D0%BE%D0%B2%D0%B0.ipynb\" target=\"_parent\"><img src=\"https://colab.research.google.com/assets/colab-badge.svg\" alt=\"Open In Colab\"/></a>"
      ]
    },
    {
      "cell_type": "code",
      "execution_count": 1,
      "metadata": {
        "colab": {
          "base_uri": "https://localhost:8080/"
        },
        "id": "4Z4BUx6icQYr",
        "outputId": "ba0ca24a-10c4-4eed-d59c-d3573605271c"
      },
      "outputs": [
        {
          "output_type": "stream",
          "name": "stdout",
          "text": [
            "[[   0    1    1    2    3]\n",
            " [   5    8   13   21   34]\n",
            " [  55   89  144  233  377]\n",
            " [ 610  987 1597 2584 4181]]\n",
            "[   7   81  898 9959]\n",
            "[  0   5  55 610]\n",
            "[   3   34  377 4181]\n",
            "[ 670 1085 1755 2840 4595]\n",
            "[0 1 1 2 3]\n",
            "[ 610  987 1597 2584 4181]\n",
            "[[  0   1   1   2   3]\n",
            " [  5   8  13  21  34]\n",
            " [ 55  89 144 233 377]\n",
            " [  1   1   1   1   1]]\n"
          ]
        }
      ],
      "source": [
        "import numpy as np\n",
        "\n",
        "matrix = np.zeros((4, 5), dtype = int) #создаем матрицу 4x5 с нулевыми значениями и устанавливаем целочисленный тип\n",
        "fibonacci = [0, 1] #создаем вспомогательный массив, который будем заполнять числами Фибоначчи с первыми двумя значениями ряда Фибоначчи\n",
        "for i in range(4): #индекс строки\n",
        "    for j in range(5): #индекс столбца\n",
        "        if i == 0 and j == 0: #для первого значения (1 строка 1 столбец)\n",
        "            matrix[i, j] = fibonacci[0] # устанавливаем значение 0\n",
        "        elif i == 0 and j == 1: # для второго значения (1 строка 2 столбец)\n",
        "            matrix[i, j] = fibonacci[1] #  устанавливаем значение 1\n",
        "        else: #для всех остальных значений\n",
        "            fibonacci.append(fibonacci[-1] + fibonacci[-2]) #в массив добавляем значение, равное сумме двух предыдущих значений\n",
        "            matrix[i, j] = fibonacci[-1] #текущему (в цикле) значению матрицы присваиваем последнее записанное значение в вспомогательный массив\n",
        "print(matrix) #выводим итоговую матрицу\n",
        "\n",
        "#считаем сумму, минимум и максимум для каждой строки:\n",
        "\n",
        "print(matrix.sum(axis=1))\n",
        "print(matrix.min(axis=1))\n",
        "print(matrix.max(axis=1))\n",
        "\n",
        "#считаем сумму, минимум и максимум для каждого столбца\n",
        "print(matrix.sum(axis=0))\n",
        "print(matrix.min(axis=0))\n",
        "print(matrix.max(axis=0))\n",
        "\n",
        "matrix[matrix > 500] = 1 # замена значений больше 500 на 1\n",
        "print(matrix) #выводим итоговую матрицу\n",
        "#строка для проверки связи с GitHub:)"
      ]
    }
  ]
}